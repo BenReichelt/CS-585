{
 "cells": [
  {
   "cell_type": "code",
   "execution_count": 1,
   "metadata": {},
   "outputs": [],
   "source": [
    "import numpy as np\n",
    "import cv2"
   ]
  },
  {
   "cell_type": "code",
   "execution_count": 2,
   "metadata": {},
   "outputs": [],
   "source": [
    "face_before = cv2.imread(\"./face_before.jpg\")"
   ]
  },
  {
   "cell_type": "code",
   "execution_count": 3,
   "metadata": {},
   "outputs": [
    {
     "name": "stdout",
     "output_type": "stream",
     "text": [
      "[74 73 69]\n"
     ]
    }
   ],
   "source": [
    "print(face_before[0][0]) \n",
    "# 1967 rows in the image\n",
    "# 1967 cols in the image\n",
    "# 3 color channels"
   ]
  },
  {
   "cell_type": "code",
   "execution_count": 13,
   "metadata": {},
   "outputs": [
    {
     "data": {
      "text/plain": [
       "True"
      ]
     },
     "execution_count": 13,
     "metadata": {},
     "output_type": "execute_result"
    }
   ],
   "source": [
    "def greyscaleConv(image):\n",
    "    (rows, cols, channels) = image.shape\n",
    "    face_after = image.copy()\n",
    "    for row in range(rows):\n",
    "        for col in range(cols):\n",
    "            avg = np.average(image[row, col])\n",
    "            face_after[row, col] = avg\n",
    "    return face_after\n",
    "            \n",
    "face_after = greyscaleConv(face_before)            \n",
    "cv2.imwrite(\"./face_after.jpg\", face_after)            "
   ]
  },
  {
   "cell_type": "code",
   "execution_count": 14,
   "metadata": {},
   "outputs": [
    {
     "data": {
      "text/plain": [
       "True"
      ]
     },
     "execution_count": 14,
     "metadata": {},
     "output_type": "execute_result"
    }
   ],
   "source": [
    "def shuffleImage(image):\n",
    "    (rows, cols, channels) = image.shape\n",
    "    image_after = image.copy()\n",
    "    for row in range(rows):\n",
    "        for col in range(cols):\n",
    "            invert = (255 - image[row][col])\n",
    "            image_after[row, col] = invert\n",
    "    return image_after\n",
    "\n",
    "image_after = shuffleImage(face_after)\n",
    "cv2.imwrite(\"./image_after.jpg\", image_after)"
   ]
  },
  {
   "cell_type": "code",
   "execution_count": null,
   "metadata": {},
   "outputs": [],
   "source": []
  }
 ],
 "metadata": {
  "kernelspec": {
   "display_name": "Python 3",
   "language": "python",
   "name": "python3"
  },
  "language_info": {
   "codemirror_mode": {
    "name": "ipython",
    "version": 3
   },
   "file_extension": ".py",
   "mimetype": "text/x-python",
   "name": "python",
   "nbconvert_exporter": "python",
   "pygments_lexer": "ipython3",
   "version": "3.8.3"
  }
 },
 "nbformat": 4,
 "nbformat_minor": 4
}
